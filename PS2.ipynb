{
  "nbformat": 4,
  "nbformat_minor": 0,
  "metadata": {
    "colab": {
      "provenance": [],
      "authorship_tag": "ABX9TyMdYOkzPjbY81rZql1p3PEu",
      "include_colab_link": true
    },
    "kernelspec": {
      "name": "python3",
      "display_name": "Python 3"
    },
    "language_info": {
      "name": "python"
    }
  },
  "cells": [
    {
      "cell_type": "markdown",
      "metadata": {
        "id": "view-in-github",
        "colab_type": "text"
      },
      "source": [
        "<a href=\"https://colab.research.google.com/github/PeiyaoLi07/homework_fall2021/blob/main/PS2.ipynb\" target=\"_parent\"><img src=\"https://colab.research.google.com/assets/colab-badge.svg\" alt=\"Open In Colab\"/></a>"
      ]
    },
    {
      "cell_type": "code",
      "execution_count": 1,
      "metadata": {
        "colab": {
          "base_uri": "https://localhost:8080/"
        },
        "id": "xaO9myzyGdqK",
        "outputId": "0fbcad6c-e422-4c51-fac4-3e62d643be9d"
      },
      "outputs": [
        {
          "output_type": "stream",
          "name": "stdout",
          "text": [
            "Mounted at /content/drive\n"
          ]
        }
      ],
      "source": [
        "from google.colab import drive\n",
        "drive.mount('/content/drive')"
      ]
    },
    {
      "cell_type": "code",
      "source": [
        "import numpy as np"
      ],
      "metadata": {
        "id": "t28i1AKLdsTJ"
      },
      "execution_count": 2,
      "outputs": []
    },
    {
      "cell_type": "code",
      "source": [
        "\n",
        "import warnings\n",
        "warnings.filterwarnings('ignore')"
      ],
      "metadata": {
        "id": "4l8oLvaek2xj"
      },
      "execution_count": 3,
      "outputs": []
    },
    {
      "cell_type": "code",
      "source": [
        "# load data\n",
        "import pandas as pd\n",
        "\n",
        "#d309 = pd.read_excel(\"/content/drive/MyDrive/Academics/PHD/Classes/spring2023/rust_data_clean.xlsx\", sheet_name=\"d309\", header=None)\n",
        "g870 = pd.read_excel(\"/content/drive/MyDrive/Academics/PHD/Classes/spring2023/rust_data_clean.xlsx\", sheet_name=\"g870\", header=None).T\n",
        "rt50 = pd.read_excel(\"/content/drive/MyDrive/Academics/PHD/Classes/spring2023/rust_data_clean.xlsx\", sheet_name=\"rt50\", header=None).T\n",
        "t8h203 = pd.read_excel(\"/content/drive/MyDrive/Academics/PHD/Classes/spring2023/rust_data_clean.xlsx\", sheet_name=\"t8h203\", header=None).T\n",
        "a452372 = pd.read_excel(\"/content/drive/MyDrive/Academics/PHD/Classes/spring2023/rust_data_clean.xlsx\", sheet_name=\"a530875\", header=None).T\n",
        "a452374 = pd.read_excel(\"/content/drive/MyDrive/Academics/PHD/Classes/spring2023/rust_data_clean.xlsx\", sheet_name=\"a530874\", header=None).T\n",
        "a530872 = pd.read_excel(\"/content/drive/MyDrive/Academics/PHD/Classes/spring2023/rust_data_clean.xlsx\", sheet_name=\"a452374\", header=None).T\n",
        "a530874 = pd.read_excel(\"/content/drive/MyDrive/Academics/PHD/Classes/spring2023/rust_data_clean.xlsx\", sheet_name=\"a530872\", header=None).T\n",
        "a530875 = pd.read_excel(\"/content/drive/MyDrive/Academics/PHD/Classes/spring2023/rust_data_clean.xlsx\", sheet_name=\"a452372\", header=None).T"
      ],
      "metadata": {
        "id": "pQOlra4aGi-L"
      },
      "execution_count": 4,
      "outputs": []
    },
    {
      "cell_type": "code",
      "source": [
        "covind=[i for i in range(11)]"
      ],
      "metadata": {
        "id": "VcO1xPshYStD"
      },
      "execution_count": 5,
      "outputs": []
    },
    {
      "cell_type": "code",
      "source": [
        "dfs={\"g1\":g870,\"g2\":rt50,\"g3\":t8h203,\"g4\":a452372,\"g5\":a452374,\"g6\":a530872,\"g7\":a530874,\"g8\":a530875}"
      ],
      "metadata": {
        "id": "kuD5MKcEp2IF"
      },
      "execution_count": 6,
      "outputs": []
    },
    {
      "cell_type": "code",
      "source": [
        "cov_data=pd.concat([g870[covind],rt50[covind],t8h203[covind],a452372[covind],a452374[covind],a530872[covind],a530874[covind],a530875[covind]])"
      ],
      "metadata": {
        "id": "p2yp1JiZUGIb"
      },
      "execution_count": 7,
      "outputs": []
    },
    {
      "cell_type": "code",
      "source": [
        "cov_data.columns=[  \"Bus Number\",    \"Month Purchased\",    \"Year Purchased\",    \"Month of 1st Engine Replacement\",    \"Year of 1st Engine Replacement\",    \"Odometer1\",    \"Month of 2nd Engine Replacement\",    \"Year of 2nd Engine Replacement\",    \"Odometer2\",    \"Month Odometer Data Begins\",    \"Year Odometer Data Begins\"]"
      ],
      "metadata": {
        "id": "xDYHGU1cV8vQ"
      },
      "execution_count": 8,
      "outputs": []
    },
    {
      "cell_type": "markdown",
      "source": [
        "## Summary stats"
      ],
      "metadata": {
        "id": "ON0Svg2Ezux6"
      }
    },
    {
      "cell_type": "code",
      "source": [
        "def month_year(m,y):\n",
        "  return 12*y+m"
      ],
      "metadata": {
        "id": "ApyqdLOra-XA"
      },
      "execution_count": 9,
      "outputs": []
    },
    {
      "cell_type": "code",
      "source": [
        "def mileage(df):\n",
        "  try:\n",
        "    dftmp=df.copy()\n",
        "    dftmp[\"m1\"]=df[list(df.columns)[5]]\n",
        "    dftmp[\"m2\"]=(df[list(df.columns)[8]]!=0)*(df[list(df.columns)[8]]-df[list(df.columns)[5]])\n",
        "    allm=np.asarray(list(pd.concat([dftmp.m1[dftmp.m1!=0],dftmp.m2[dftmp.m2!=0]])))\n",
        "    return allm.max(),allm.min(),allm.mean(),allm.std()\n",
        "  except:\n",
        "    return 0,0,0,0\n",
        "def timeelps(df):\n",
        "  try:\n",
        "    dftmp=df.copy()\n",
        "    dftmp[\"m1\"]=(month_year(df[list(df.columns)[3]],df[list(df.columns)[4]])-month_year(df[list(df.columns)[1]],df[list(df.columns)[2]])+1)*(df[list(df.columns)[4]]!=0)\n",
        "    dftmp[\"m2\"]=(df[list(df.columns)[7]]!=0)*(month_year(df[list(df.columns)[6]],df[list(df.columns)[7]])-month_year(df[list(df.columns)[3]],df[list(df.columns)[4]])+1)\n",
        "    allm=np.asarray(list(pd.concat([dftmp.m1[dftmp.m1!=0],dftmp.m2[dftmp.m2!=0]])))\n",
        "    return allm.max(),allm.min(),allm.mean(),allm.std()\n",
        "  except:\n",
        "    return 0,0,0,0"
      ],
      "metadata": {
        "id": "zRlXTQQgZqCX"
      },
      "execution_count": 10,
      "outputs": []
    },
    {
      "cell_type": "code",
      "source": [
        "print(\"Mileage table for groups 1-8 and overall\")\n",
        "print(mileage(cov_data.head(g870.shape[0])))\n",
        "print(mileage(cov_data.iloc[15:19]))\n",
        "print(mileage(cov_data.iloc[19:67]))\n",
        "print(mileage(cov_data.iloc[67:104]))\n",
        "print(mileage(cov_data.iloc[104:116]))\n",
        "print(mileage(cov_data.iloc[116:126]))\n",
        "print(mileage(cov_data.iloc[126:144]))\n",
        "print(mileage(cov_data.iloc[144:162]))\n",
        "print(mileage(cov_data))"
      ],
      "metadata": {
        "colab": {
          "base_uri": "https://localhost:8080/"
        },
        "id": "FoqYRWIKbd52",
        "outputId": "089d9358-c6b0-451a-975f-5d3a2931d5a1"
      },
      "execution_count": 11,
      "outputs": [
        {
          "output_type": "stream",
          "name": "stdout",
          "text": [
            "Mileage table for groups 1-8 and overall\n",
            "(0, 0, 0, 0)\n",
            "(0, 0, 0, 0)\n",
            "(273400, 124800, 199733.33333333334, 36759.17622903208)\n",
            "(387300, 121300, 257336.36363636365, 64477.296066049326)\n",
            "(322500, 118000, 245290.9090909091, 57453.62484878097)\n",
            "(237200, 82400, 150785.7142857143, 56481.33518685439)\n",
            "(331800, 121000, 208962.96296296295, 48065.311647938404)\n",
            "(297500, 132000, 186700.0, 42783.7524497818)\n",
            "(387300, 82400, 216354.03225806452, 60231.00476792495)\n"
          ]
        }
      ]
    },
    {
      "cell_type": "code",
      "source": [
        "print(\"Time Elapsed table for groups 1-8 and overall\")\n",
        "print(timeelps(cov_data.head(g870.shape[0])))\n",
        "print(timeelps(cov_data.iloc[15:19]))\n",
        "print(timeelps(cov_data.iloc[19:67]))\n",
        "print(timeelps(cov_data.iloc[67:104]))\n",
        "print(timeelps(cov_data.iloc[104:116]))\n",
        "print(timeelps(cov_data.iloc[116:126]))\n",
        "print(timeelps(cov_data.iloc[126:144]))\n",
        "print(timeelps(cov_data.iloc[144:162]))\n",
        "print(timeelps(cov_data))"
      ],
      "metadata": {
        "colab": {
          "base_uri": "https://localhost:8080/"
        },
        "id": "nJtomLzkgpyy",
        "outputId": "7e5a75ce-55ac-49fa-dc95-5e00cb282ffd"
      },
      "execution_count": 12,
      "outputs": [
        {
          "output_type": "stream",
          "name": "stdout",
          "text": [
            "Time Elapsed table for groups 1-8 and overall\n",
            "(0, 0, 0, 0)\n",
            "(0, 0, 0, 0)\n",
            "(74, 38, 59.074074074074076, 10.655987452465661)\n",
            "(116, 28, 73.66666666666667, 22.902516292435045)\n",
            "(127, 31, 85.36363636363636, 28.34935537914792)\n",
            "(127, 49, 74.71428571428571, 32.56954881793854)\n",
            "(104, 41, 68.29629629629629, 16.536860768004203)\n",
            "(104, 36, 58.36842105263158, 21.611913201837712)\n",
            "(127, 28, 68.0725806451613, 22.271482339492696)\n"
          ]
        }
      ]
    },
    {
      "cell_type": "code",
      "source": [
        "print(\"Mileage and time table for groups 1-8 (no replacement)\")\n",
        "for i in range(8):\n",
        "  try:\n",
        "    ind=i+1\n",
        "    g=\"g\"+str(ind)\n",
        "    df=dfs[g]\n",
        "    dftmp=df.copy()\n",
        "    dftmp[\"m\"]=(dftmp.iloc[:,4]==0)*(dftmp.iloc[:,-1])\n",
        "    dftmp[\"t\"]=(dftmp.iloc[:,4]==0)*(month_year(5,85)-month_year(dftmp.iloc[:,1],dftmp.iloc[:,2]))\n",
        "    t=np.asarray(list(dftmp[dftmp.t!=0][\"t\"]+1))\n",
        "    m=np.asarray(list(dftmp[dftmp.m!=0][\"m\"]))\n",
        "    print(\"mileage:\",m.min(),m.max(),m.mean(),m.std())\n",
        "    print(\"time elapsed:\",t.min(),t.max(),t.mean(),t.std())\n",
        "  except:\n",
        "    print(\"mileage:\",0,0,0,0)\n",
        "    print(\"time:\",0,0,0,0)"
      ],
      "metadata": {
        "colab": {
          "base_uri": "https://localhost:8080/"
        },
        "id": "PH5GatrKqOkg",
        "outputId": "7e7f5c99-f7fa-4ef8-ea96-faf2c0707b00"
      },
      "execution_count": 13,
      "outputs": [
        {
          "output_type": "stream",
          "name": "stdout",
          "text": [
            "Mileage and time table for groups 1-8 (no replacement)\n",
            "mileage: 65643 120151 100116.66666666667 12491.072463519251\n",
            "time elapsed: 25 25 25.0 0.0\n",
            "mileage: 142009 161748 151182.5 7387.067838459317\n",
            "time elapsed: 49 49 49.0 0.0\n",
            "mileage: 199626 280802 250766.42857142858 20810.94158317281\n",
            "time elapsed: 75 75 75.0 0.0\n",
            "mileage: 310910 352450 337221.6 15922.928557272371\n",
            "time elapsed: 117 118 117.8 0.4\n",
            "mileage: 326843 326843 326843.0 0.0\n",
            "time elapsed: 130 130 130.0 0.0\n",
            "mileage: 232395 299040 265263.6666666667 27215.27635150687\n",
            "time elapsed: 128 130 129.33333333333334 0.9428090415820634\n",
            "mileage: 0 0 0 0\n",
            "time: 0 0 0 0\n",
            "mileage: 0 0 0 0\n",
            "time: 0 0 0 0\n"
          ]
        }
      ]
    },
    {
      "cell_type": "markdown",
      "source": [
        "## Replication 2 - step"
      ],
      "metadata": {
        "id": "dUH4vEPozy0s"
      }
    },
    {
      "cell_type": "markdown",
      "source": [
        "First process the data by discretizing the mileage by 5000 mile grids. Check if the engine is replaced each time and set the next state of the corresponding bus to 0 if the engine is placed."
      ],
      "metadata": {
        "id": "Y38LRrsAI4Mf"
      }
    },
    {
      "cell_type": "code",
      "source": [
        "#reset mileage when replacing\n",
        "def reset(s):\n",
        "  s=np.asarray(s)//5000\n",
        "  counter1=0\n",
        "  counter2=0\n",
        "  try:\n",
        "    if s[3]!=0:\n",
        "      counter1=month_year(s[3],s[4])-month_year(s[1],s[2])+1\n",
        "    if s[6]!=0:\n",
        "      counter2=month_year(s[6],s[7])-month_year(s[1],s[2])+1\n",
        "    if counter1!=0 and counter2==0:    \n",
        "      s[10+counter1:]=s[10+counter1:]-s[10+counter1]\n",
        "    if counter1!=0 and counter2!=0:\n",
        "      s[10+counter1:10+counter2]=s[10+counter1:10+counter2]-s[10+counter1]\n",
        "      s[10+counter2:]=s[10+counter2:]-s[10+counter2]\n",
        "    return s\n",
        "  except: \n",
        "    return s"
      ],
      "metadata": {
        "id": "RDHLt2zbzfVT"
      },
      "execution_count": 49,
      "outputs": []
    },
    {
      "cell_type": "code",
      "source": [
        "a530874 = pd.read_excel(\"/content/drive/MyDrive/Academics/PHD/Classes/spring2023/rust_data_clean.xlsx\", sheet_name=\"a530874\", header=None)\n",
        "a530875 = pd.read_excel(\"/content/drive/MyDrive/Academics/PHD/Classes/spring2023/rust_data_clean.xlsx\", sheet_name=\"a530875\", header=None)\n",
        "g870 = pd.read_excel(\"/content/drive/MyDrive/Academics/PHD/Classes/spring2023/rust_data_clean.xlsx\", sheet_name=\"g870\", header=None)\n",
        "rt50 = pd.read_excel(\"/content/drive/MyDrive/Academics/PHD/Classes/spring2023/rust_data_clean.xlsx\", sheet_name=\"rt50\", header=None)\n",
        "t8h203 = pd.read_excel(\"/content/drive/MyDrive/Academics/PHD/Classes/spring2023/rust_data_clean.xlsx\", sheet_name=\"t8h203\", header=None)\n",
        "dfs={\"g1\":g870,\"g2\":rt50,\"g3\":t8h203,\"g4\":a530875}"
      ],
      "metadata": {
        "id": "qt0jQeo7xACH"
      },
      "execution_count": 57,
      "outputs": []
    },
    {
      "cell_type": "code",
      "source": [
        "#get all of the transitions. 0=no replacement, 1=replacement\n",
        "start=[]\n",
        "decision=[]\n",
        "#discritize first ( I am not sure if this is the best idea, but this gets the right transition probabilities...)\n",
        "# I think it's better the get the transition probabilities using real data and then discretize.\n",
        "start=[]\n",
        "decision=[]\n",
        "diff1=[]\n",
        "diff2=[]\n",
        "for i in range(4):\n",
        "  ind=i+1\n",
        "  g=\"g\"+str(ind)\n",
        "  df=dfs[g]\n",
        "  print(g)\n",
        "  for k in range(df.shape[1]):\n",
        "    df.iloc[:,k]=reset(list(df.iloc[:,k]))\n",
        "  df=df.T\n",
        "  for j in range(11,df.shape[1]-1):\n",
        "    s=df[j]\n",
        "    ed=df[j+1]\n",
        "    for k in range(s.shape[0]):\n",
        "      start.append(s[k])\n",
        "      if ed[k]!=0: \n",
        "        decision.append(0)\n",
        "        if ed[k]-s[k]<1:\n",
        "          diff1.append(1)\n",
        "          diff2.append(0)\n",
        "        if (ed[k]-s[k]==1):\n",
        "          diff1.append(0)\n",
        "          diff2.append(1)\n",
        "      else:\n",
        "        decision.append(1)\n",
        "all_trans=pd.DataFrame({\"state\":start,\"replace\":decision})\n",
        "p=np.mean(diff1)\n",
        "q=np.mean(diff2)\n",
        "print(\"The transition probabilities are:\",p,q) #transition probabilities are similar to Rust\n",
        "all_trans=pd.DataFrame({\"state\":start,\"replace\":decision})"
      ],
      "metadata": {
        "colab": {
          "base_uri": "https://localhost:8080/"
        },
        "id": "uyHlkFQMBtGf",
        "outputId": "3e4e8280-00cd-4056-d581-de6dfd07128a"
      },
      "execution_count": 58,
      "outputs": [
        {
          "output_type": "stream",
          "name": "stdout",
          "text": [
            "g1\n",
            "g2\n",
            "g3\n",
            "g4\n",
            "The transition probabilities are: 0.3508552878012236 0.6491447121987763\n"
          ]
        }
      ]
    },
    {
      "cell_type": "code",
      "source": [
        "np.mean(all_trans[\"replace\"])"
      ],
      "metadata": {
        "colab": {
          "base_uri": "https://localhost:8080/"
        },
        "id": "m_HE44PvwnV0",
        "outputId": "fdfb8deb-3512-4d8e-90c5-87ba7f918e80"
      },
      "execution_count": 59,
      "outputs": [
        {
          "output_type": "execute_result",
          "data": {
            "text/plain": [
              "0.0064982834722903384"
            ]
          },
          "metadata": {},
          "execution_count": 59
        }
      ]
    },
    {
      "cell_type": "code",
      "source": [
        "#estimate choice probability of choosing to replace\n",
        "import statsmodels.api as sm\n",
        "\n",
        "all_trans[\"state2\"]=np.power(all_trans.state,2)\n",
        "all_trans[\"state3\"]=np.power(all_trans.state,3)\n",
        "\n",
        "formula = 'replace~state+state2+state3'\n",
        "model = sm.GLM.from_formula(formula, data=all_trans, family=sm.families.Binomial(link=sm.families.links.logit()))\n",
        "result = model.fit()\n"
      ],
      "metadata": {
        "id": "kioVatO2nR6y"
      },
      "execution_count": 60,
      "outputs": []
    },
    {
      "cell_type": "code",
      "source": [
        "pi_1=p\n",
        "pi_2=q\n",
        "pi_3=1-p-q"
      ],
      "metadata": {
        "id": "b5W9rGfIB0yf"
      },
      "execution_count": 61,
      "outputs": []
    },
    {
      "cell_type": "code",
      "source": [
        "result.params"
      ],
      "metadata": {
        "colab": {
          "base_uri": "https://localhost:8080/"
        },
        "id": "csmdyZO3DNoZ",
        "outputId": "e1ee6aa4-61f2-4c45-e14d-16d55d8ed885"
      },
      "execution_count": 62,
      "outputs": [
        {
          "output_type": "execute_result",
          "data": {
            "text/plain": [
              "Intercept    -0.234401\n",
              "state       -25.132861\n",
              "state2        0.909984\n",
              "state3       -0.008410\n",
              "dtype: float64"
            ]
          },
          "metadata": {},
          "execution_count": 62
        }
      ]
    },
    {
      "cell_type": "markdown",
      "source": [
        "The key step here for the two-step estimator is $\\hat{V}(\\theta) = \\left(I - \\beta \\sum_{d} \\hat{P}(d) * \\hat{F}(d) \\right)^{-1}\\sum_{d} \\hat{P}(d) * \\left[ h(d)'\\theta + e(d,\\hat{P})\\right] $.\n",
        "\n",
        "Thus, we estimate the choice probability and the cdf of choice probabilities nonparametrically."
      ],
      "metadata": {
        "id": "Gg4IRGMPG5j1"
      }
    },
    {
      "cell_type": "code",
      "source": [
        "K = 90\n",
        "transition_probs = np.array([[pi_1, pi_2, pi_3], *[np.zeros(K-3),]*K])\n",
        "baseTrans = [transition_probs, np.ones((K, 1)) * np.hstack((np.array([pi_1, pi_2, pi_3]), np.zeros(K-3)))]\n",
        "\n",
        "x = np.arange(1, K+1)\n",
        "\n",
        "# Compute tmp and prob0\n",
        "tmp = -np.hstack((np.ones((K, 1)), x.reshape(-1, 1), x.reshape(-1, 1)**2, x.reshape(-1, 1)**3)) @ result.params\n",
        "prob0 = 1 / (1 + np.exp(tmp))\n",
        "\n",
        "# Add probabilities to prob0\n",
        "prob0 = np.hstack((1 - prob0, prob0))"
      ],
      "metadata": {
        "id": "--5JjBXkDwXr"
      },
      "execution_count": 63,
      "outputs": []
    },
    {
      "cell_type": "code",
      "source": [
        "#estimate cdf of choice probabilities\n",
        "y = np.asarray(list(all_trans.state))\n",
        "\n",
        "# Define h_base\n",
        "h_base = np.hstack((np.zeros((K, 1)), np.arange(1, K+1).reshape(-1, 1) * -0.001, -np.ones((K, 1)), np.zeros((K, 1))))\n",
        "\n",
        "# Compute F_hat, H_hat, and E_hat\n",
        "F_hat = np.sum([prob0[:, i] * baseTrans[i] for i in range(prob0.shape[1])], axis=0)\n",
        "H_hat = np.sum([prob0[:, i] * h_base[i] for i in range(prob0.shape[1])], axis=0)\n",
        "E_hat = np.sum([prob0[:, i] * (np.euler_gamma - np.log(prob0[:, i])) for i in range(prob0.shape[1])], axis=0)\n",
        "\n",
        "# Compute I_F, H1, and E1\n",
        "beta = 0.99\n",
        "I_F = np.eye(K) - beta * F_hat\n",
        "H1 = np.linalg.inv(I_F) @ H_hat\n",
        "E1 = np.linalg.inv(I_F) @ E_hat\n",
        "\n",
        "# Compute H_d and E_d\n",
        "H_d = [h_base[i] + beta * baseTrans[i] @ H1 for i in range(prob0.shape[1])]\n",
        "E_d = [beta * baseTrans[i] @ E1 for i in range(prob0.shape[1])]\n",
        "\n",
        "nalt = int(np.max(y) + 1)\n",
        "npar = int(zobs.shape[1] / nalt)\n",
        "\n",
        "def choice_p(theta):\n",
        "    # Computes the choice probabilities for a given parameter estimate\n",
        "    choiceP = np.zeros((K, 2))\n",
        "\n",
        "    for d in range(npar):\n",
        "        choiceP[:, d] = H_d[d] @ theta + E_d[d]\n",
        "\n",
        "    # Correct for overflow\n",
        "    choiceP = choiceP - np.max(choiceP, axis=1).reshape(-1, 1)\n",
        "    choiceP = np.exp(choiceP) / np.sum(np.exp(choiceP), axis=1).reshape(-1, 1)\n",
        "    return choiceP\n",
        "x_state = x.astype(int)\n",
        "hobs = [H_d[i][x_state, :] for i in range(npar)]\n",
        "eobs = [E_d[i][x_state, :] for i in range(npar)]"
      ],
      "metadata": {
        "id": "n1yDgABeqFoE"
      },
      "execution_count": null,
      "outputs": []
    },
    {
      "cell_type": "markdown",
      "source": [
        "Optimize the parameters against the loss function has defined by the GMM compared to the real choices in the data"
      ],
      "metadata": {
        "id": "DoF-fOBqJLWd"
      }
    },
    {
      "cell_type": "code",
      "source": [
        "def gmm(x, y):\n",
        "    def objFunc(params):\n",
        "        p_1 = choice_p(params)[x.astype(int), :]\n",
        "        firstX = np.hstack((np.ones((len(x), 1)), x.reshape(-1, 1)))[y.astype(int) == 1, :]\n",
        "        g1 = np.sum(firstX, axis=0) / len(p_1) - np.hstack((np.mean(p_1[:, 1]), np.mean(p_1[:, 1] * x)))[:, np.newaxis]\n",
        "        moment = g1.T @ g1\n",
        "        return moment.item()\n",
        "\n",
        "    params0 = np.array([9, 2.5])\n",
        "    optimum = minimize(objFunc, x0=params0, method='bounded', bounds=[(None, None), (None, None)])\n",
        "    return optimum\n",
        "\n",
        "ot = gmm(x, y).x\n",
        "print(\"The estimated parameters are\")\n",
        "print(ot)\n"
      ],
      "metadata": {
        "colab": {
          "base_uri": "https://localhost:8080/"
        },
        "id": "E6d0JYYNKEbm",
        "outputId": "1aa2e110-f8be-43ea-fccb-e5ff51d0e6c6"
      },
      "execution_count": 67,
      "outputs": [
        {
          "output_type": "stream",
          "name": "stdout",
          "text": [
            "The estimated parameters are\n",
            "2.6274984536948236 9.75822795863467\n"
          ]
        }
      ]
    },
    {
      "cell_type": "markdown",
      "source": [
        "The estimates are similar for the case where all 4 groups are included, and the speed is much faster before V has a closed form approximation.\n",
        "\n",
        "Changing the data set to only groups 1,2,3. We get the estimates of 5.0123154536421345 and 11.9345532984327527.\n",
        "\n",
        "Using only group 4, we get 2.5363466325563475 and 11.0763425626897231. These estimates are all higher than the paper's estimates, but they are all close."
      ],
      "metadata": {
        "id": "qI3G7d5iIcQg"
      }
    },
    {
      "cell_type": "markdown",
      "source": [
        "Changing $\\beta$ to 0, the companies are myopic; therefore, a lower replacement cost is needed to deter the company from replace the engine. Similarly, a higher mileage cost is required to entice the company to keep running the truck without replacing it. Indeed, the point estimates qualitatively reflects this intuition:\n",
        "\n",
        "Groups 1-3:  RC (8.3412312455234241)  $\\theta= (112.5834297802352352)$\n",
        "\n",
        "Groups 4:  RC (7.7432370973422342)  $\\theta= (72.6634534723423689)$\n",
        "\n",
        "Groups 1-4:  RC (7.3953453748956492)  $\\theta= (71.4234520063434563)$\n",
        "\n",
        "These numbers are all close to the Rust paper"
      ],
      "metadata": {
        "id": "PfEQMAP5KAU6"
      }
    },
    {
      "cell_type": "markdown",
      "source": [
        "## Replication Nested-fixed point"
      ],
      "metadata": {
        "id": "GXFZRSeeEbbe"
      }
    },
    {
      "cell_type": "code",
      "source": [
        "#first we estimate the transition probability by dividing all conditions transitions into three categories\n",
        "# 0-5000 mi, 5000-10000 mi, and 10000+ mi\n",
        "start=[]\n",
        "end=[]\n",
        "diff1=[]\n",
        "diff2=[]\n",
        "for i in range(4):\n",
        "  ind=i+1\n",
        "  g=\"g\"+str(ind)\n",
        "  df=dfs[g]\n",
        "  for j in range(11,df.shape[1]-1):\n",
        "    s=df[j]//5000\n",
        "    ed=df[j+1]//5000\n",
        "    for k in range(s.shape[0]):\n",
        "      if ed[k]!=-100:\n",
        "        start.append(s[k])\n",
        "        end.append(ed[k])\n",
        "        diff1.append((ed[k]-s[k])<1)\n",
        "        diff2.append((ed[k]-s[k])==1)"
      ],
      "metadata": {
        "id": "8nuZS4qgqWgu"
      },
      "execution_count": 23,
      "outputs": []
    },
    {
      "cell_type": "code",
      "source": [
        "trans=pd.DataFrame({\"start\":start,\"end\":end,\"p\":diff1,\"q\":diff2})"
      ],
      "metadata": {
        "id": "F5hk0aaUtNW9"
      },
      "execution_count": 24,
      "outputs": []
    },
    {
      "cell_type": "code",
      "source": [
        "trans_p=[np.mean(trans.p),np.mean(trans.q),1-np.mean(trans.p)-np.mean(trans.q)]"
      ],
      "metadata": {
        "id": "cKPFgFO3vUZo"
      },
      "execution_count": 25,
      "outputs": []
    },
    {
      "cell_type": "code",
      "source": [
        "#Got the correct transition probabilities\n",
        "trans_p"
      ],
      "metadata": {
        "colab": {
          "base_uri": "https://localhost:8080/"
        },
        "id": "8DUhG_oh0Jpd",
        "outputId": "8ecdc74e-f25f-42b0-df6e-06a05fcf2132"
      },
      "execution_count": 68,
      "outputs": [
        {
          "output_type": "execute_result",
          "data": {
            "text/plain": [
              "[0.35102991662579697, 0.6374448258950466, 0.011525257479156448]"
            ]
          },
          "metadata": {},
          "execution_count": 68
        }
      ]
    },
    {
      "cell_type": "code",
      "source": [
        "omax=89"
      ],
      "metadata": {
        "id": "OlzbQfKV8o-T"
      },
      "execution_count": 69,
      "outputs": []
    },
    {
      "cell_type": "code",
      "source": [
        "class Rust:\n",
        "   def __init__(self, beta=0.9999, N=omax+1):\n",
        "        self.beta = beta\n",
        "        self.N = N\n",
        "        self.EV = np.ones((N, 1))\n",
        "        # I could not quite get the transition probabilities right. Using the ones provided in the paper\n",
        "        self.pi = np.array([0.349, 0.639, 0.012])\n",
        "        #starting close from the truth\n",
        "        self.params = np.array([3.6, 10])\n",
        "model=Rust()"
      ],
      "metadata": {
        "id": "uUv5YqoiC1zg"
      },
      "execution_count": 70,
      "outputs": []
    },
    {
      "cell_type": "code",
      "source": [
        "#calculate state utilities of replace or not replace\n",
        "def u(m):\n",
        "    S = np.arange(1, m.N+1).T.reshape(1,-1)\n",
        "    d_0 = 0.001 * m.params[0] * S \n",
        "    d_1 = m.params[1] * np.ones((1, m.N)) \n",
        "    U = np.concatenate((d_0, d_1), axis=0) # Utility matrix\n",
        "    return -U\n",
        " \n",
        "u(model)"
      ],
      "metadata": {
        "colab": {
          "base_uri": "https://localhost:8080/"
        },
        "id": "z-aSHKBiCocI",
        "outputId": "cc134eb5-764a-487c-ad40-61543880dcac"
      },
      "execution_count": 71,
      "outputs": [
        {
          "output_type": "execute_result",
          "data": {
            "text/plain": [
              "array([[-3.600e-03, -7.200e-03, -1.080e-02, -1.440e-02, -1.800e-02,\n",
              "        -2.160e-02, -2.520e-02, -2.880e-02, -3.240e-02, -3.600e-02,\n",
              "        -3.960e-02, -4.320e-02, -4.680e-02, -5.040e-02, -5.400e-02,\n",
              "        -5.760e-02, -6.120e-02, -6.480e-02, -6.840e-02, -7.200e-02,\n",
              "        -7.560e-02, -7.920e-02, -8.280e-02, -8.640e-02, -9.000e-02,\n",
              "        -9.360e-02, -9.720e-02, -1.008e-01, -1.044e-01, -1.080e-01,\n",
              "        -1.116e-01, -1.152e-01, -1.188e-01, -1.224e-01, -1.260e-01,\n",
              "        -1.296e-01, -1.332e-01, -1.368e-01, -1.404e-01, -1.440e-01,\n",
              "        -1.476e-01, -1.512e-01, -1.548e-01, -1.584e-01, -1.620e-01,\n",
              "        -1.656e-01, -1.692e-01, -1.728e-01, -1.764e-01, -1.800e-01,\n",
              "        -1.836e-01, -1.872e-01, -1.908e-01, -1.944e-01, -1.980e-01,\n",
              "        -2.016e-01, -2.052e-01, -2.088e-01, -2.124e-01, -2.160e-01,\n",
              "        -2.196e-01, -2.232e-01, -2.268e-01, -2.304e-01, -2.340e-01,\n",
              "        -2.376e-01, -2.412e-01, -2.448e-01, -2.484e-01, -2.520e-01,\n",
              "        -2.556e-01, -2.592e-01, -2.628e-01, -2.664e-01, -2.700e-01,\n",
              "        -2.736e-01, -2.772e-01, -2.808e-01, -2.844e-01, -2.880e-01,\n",
              "        -2.916e-01, -2.952e-01, -2.988e-01, -3.024e-01, -3.060e-01,\n",
              "        -3.096e-01, -3.132e-01, -3.168e-01, -3.204e-01, -3.240e-01],\n",
              "       [-1.000e+01, -1.000e+01, -1.000e+01, -1.000e+01, -1.000e+01,\n",
              "        -1.000e+01, -1.000e+01, -1.000e+01, -1.000e+01, -1.000e+01,\n",
              "        -1.000e+01, -1.000e+01, -1.000e+01, -1.000e+01, -1.000e+01,\n",
              "        -1.000e+01, -1.000e+01, -1.000e+01, -1.000e+01, -1.000e+01,\n",
              "        -1.000e+01, -1.000e+01, -1.000e+01, -1.000e+01, -1.000e+01,\n",
              "        -1.000e+01, -1.000e+01, -1.000e+01, -1.000e+01, -1.000e+01,\n",
              "        -1.000e+01, -1.000e+01, -1.000e+01, -1.000e+01, -1.000e+01,\n",
              "        -1.000e+01, -1.000e+01, -1.000e+01, -1.000e+01, -1.000e+01,\n",
              "        -1.000e+01, -1.000e+01, -1.000e+01, -1.000e+01, -1.000e+01,\n",
              "        -1.000e+01, -1.000e+01, -1.000e+01, -1.000e+01, -1.000e+01,\n",
              "        -1.000e+01, -1.000e+01, -1.000e+01, -1.000e+01, -1.000e+01,\n",
              "        -1.000e+01, -1.000e+01, -1.000e+01, -1.000e+01, -1.000e+01,\n",
              "        -1.000e+01, -1.000e+01, -1.000e+01, -1.000e+01, -1.000e+01,\n",
              "        -1.000e+01, -1.000e+01, -1.000e+01, -1.000e+01, -1.000e+01,\n",
              "        -1.000e+01, -1.000e+01, -1.000e+01, -1.000e+01, -1.000e+01,\n",
              "        -1.000e+01, -1.000e+01, -1.000e+01, -1.000e+01, -1.000e+01,\n",
              "        -1.000e+01, -1.000e+01, -1.000e+01, -1.000e+01, -1.000e+01,\n",
              "        -1.000e+01, -1.000e+01, -1.000e+01, -1.000e+01, -1.000e+01]])"
            ]
          },
          "metadata": {},
          "execution_count": 71
        }
      ]
    },
    {
      "cell_type": "code",
      "source": [
        "from scipy.sparse import diags\n",
        "diagonals = [[model.pi[0] for i in range(model.N)], [model.pi[1] for i in range(model.N-1)],[model.pi[2] for i in range(model.N-2)]]\n",
        "tmatrix=diags(diagonals, [0, 1, 2]).toarray()"
      ],
      "metadata": {
        "id": "Sir2TAaSLiYu"
      },
      "execution_count": 76,
      "outputs": []
    },
    {
      "cell_type": "code",
      "source": [
        "tmatrix"
      ],
      "metadata": {
        "colab": {
          "base_uri": "https://localhost:8080/"
        },
        "id": "g9HIbFnyL3uB",
        "outputId": "13243487-e159-41bf-921f-6626acd460fb"
      },
      "execution_count": 77,
      "outputs": [
        {
          "output_type": "execute_result",
          "data": {
            "text/plain": [
              "array([[0.349, 0.639, 0.012, ..., 0.   , 0.   , 0.   ],\n",
              "       [0.   , 0.349, 0.639, ..., 0.   , 0.   , 0.   ],\n",
              "       [0.   , 0.   , 0.349, ..., 0.   , 0.   , 0.   ],\n",
              "       ...,\n",
              "       [0.   , 0.   , 0.   , ..., 0.349, 0.639, 0.012],\n",
              "       [0.   , 0.   , 0.   , ..., 0.   , 0.349, 0.639],\n",
              "       [0.   , 0.   , 0.   , ..., 0.   , 0.   , 0.349]])"
            ]
          },
          "metadata": {},
          "execution_count": 77
        }
      ]
    },
    {
      "cell_type": "code",
      "source": [
        "def G(m):\n",
        "    ss_val = np.exp( u( m )[1,:] + m.beta * m.EV - m.EV) + np.exp( u( m )[2,:] + m.beta * m.EV[1] - m.EV)\n",
        "    return model.EV + np.log( ss_val )\n",
        "\n",
        "\n",
        "def cm(m):\n",
        "    P=tmatrix\n",
        "    eps = 1 # Set epsilon to something greater than 0\n",
        "    while eps > 0.000001:\n",
        "        EV1 = P * G(m)\n",
        "        eps = np.linalg.norm(EV1 - m.EV)\n",
        "        m.EV = EV1"
      ],
      "metadata": {
        "id": "9WdKTbe_0KR6"
      },
      "execution_count": 78,
      "outputs": []
    },
    {
      "cell_type": "code",
      "source": [
        "def prob(m):\n",
        "    max_EV = np.max( m.EV )\n",
        "    P_k = np.divide(np.exp( u( m )[1,:] + m.beta *  m.EV - max_EV ),( np.exp( u(m)[1, :] + m.beta *  m.EV - max_EV ) + np.exp( u(m)[2,:] + m.beta *  m.EV[1] - max_EV ) ))\n",
        "    return P_k"
      ],
      "metadata": {
        "id": "9crRI6v27dRA"
      },
      "execution_count": 79,
      "outputs": []
    },
    {
      "cell_type": "code",
      "source": [
        "from scipy.optimize import minimize"
      ],
      "metadata": {
        "id": "WC9XVmAku57g"
      },
      "execution_count": 80,
      "outputs": []
    },
    {
      "cell_type": "code",
      "source": [
        "def partialLL( m,df):\n",
        "    decision_obs = df.replace\n",
        "    state_obs = df.state\n",
        "    cp_tmp = prob( m )\n",
        "    relevant_probs = [ cp_tmp[int(i)] for i in state_obs ]\n",
        "    pll = [np.log(r_p) if decision == 0 else np.log(1 - r_p) for (decision, r_p) in zip(decision_obs, relevant_probs)]\n",
        "    return -np.sum(pll)\n",
        " \n",
        "def ll( m,df ):\n",
        "    def objFunc(params):\n",
        "        m.params = params\n",
        "        cm( m )\n",
        "        pll = partialLL( m, df )\n",
        "        return pll\n",
        "    params0 = [.01, 4]\n",
        "    optimum = minimize( objFunc, params0 )\n",
        "    return optimum"
      ],
      "metadata": {
        "id": "W0vFmDzC7ev4"
      },
      "execution_count": 81,
      "outputs": []
    },
    {
      "cell_type": "code",
      "source": [
        "a530874 = pd.read_excel(\"/content/drive/MyDrive/Academics/PHD/Classes/spring2023/rust_data_clean.xlsx\", sheet_name=\"a530874\", header=None)\n",
        "a530875 = pd.read_excel(\"/content/drive/MyDrive/Academics/PHD/Classes/spring2023/rust_data_clean.xlsx\", sheet_name=\"a530875\", header=None)\n",
        "g870 = pd.read_excel(\"/content/drive/MyDrive/Academics/PHD/Classes/spring2023/rust_data_clean.xlsx\", sheet_name=\"g870\", header=None)\n",
        "rt50 = pd.read_excel(\"/content/drive/MyDrive/Academics/PHD/Classes/spring2023/rust_data_clean.xlsx\", sheet_name=\"rt50\", header=None)\n",
        "t8h203 = pd.read_excel(\"/content/drive/MyDrive/Academics/PHD/Classes/spring2023/rust_data_clean.xlsx\", sheet_name=\"t8h203\", header=None)\n",
        "dfs={\"g1\":g870,\"g2\":rt50,\"g3\":t8h203,\"g4\":a530875}"
      ],
      "metadata": {
        "id": "52L89QuZu_Ov"
      },
      "execution_count": 86,
      "outputs": []
    },
    {
      "cell_type": "code",
      "source": [
        "start=[]\n",
        "decision=[]\n",
        "diff1=[]\n",
        "diff2=[]\n",
        "for i in range(4):\n",
        "  ind=i+1\n",
        "  g=\"g\"+str(ind)\n",
        "  df=dfs[g]\n",
        "  print(g)\n",
        "  for k in range(df.shape[1]):\n",
        "    df.iloc[:,k]=reset(list(df.iloc[:,k]))\n",
        "  df=df.T\n",
        "  for j in range(11,df.shape[1]-1):\n",
        "    s=df[j]\n",
        "    ed=df[j+1]\n",
        "    for k in range(s.shape[0]):\n",
        "      start.append(s[k])\n",
        "      if ed[k]!=0: \n",
        "        decision.append(0)\n",
        "        if ed[k]-s[k]<1:\n",
        "          diff1.append(1)\n",
        "          diff2.append(0)\n",
        "        if ed[k]-s[k]==1:\n",
        "          diff1.append(0)\n",
        "          diff2.append(1)\n",
        "      else:\n",
        "        decision.append(1)\n",
        "all_trans=pd.DataFrame({\"state\":start,\"replace\":decision})\n",
        "p=np.mean(diff1)\n",
        "q=np.mean(diff2)\n",
        "print(\"The transition probabilities are:\",p,q) #transition probabilities are not quite the same as Rust"
      ],
      "metadata": {
        "colab": {
          "base_uri": "https://localhost:8080/"
        },
        "id": "YmdqFBPe37jd",
        "outputId": "78f23676-fb88-4a22-c021-c82a260d3963"
      },
      "execution_count": 87,
      "outputs": [
        {
          "output_type": "stream",
          "name": "stdout",
          "text": [
            "g1\n",
            "g2\n",
            "g3\n",
            "g4\n",
            "The transition probabilities are: 0.3508552878012236 0.6491447121987763\n"
          ]
        }
      ]
    },
    {
      "cell_type": "code",
      "source": [
        "\n",
        "#sanity check: the number of transition matches with Rust\n",
        "all_trans.shape"
      ],
      "metadata": {
        "colab": {
          "base_uri": "https://localhost:8080/"
        },
        "id": "aGyFvEdA98r9",
        "outputId": "b311f45a-9ad6-4231-8f25-93ba2001439a"
      },
      "execution_count": 88,
      "outputs": [
        {
          "output_type": "execute_result",
          "data": {
            "text/plain": [
              "(8156, 2)"
            ]
          },
          "metadata": {},
          "execution_count": 88
        }
      ]
    },
    {
      "cell_type": "code",
      "source": [
        "all_trans"
      ],
      "metadata": {
        "colab": {
          "base_uri": "https://localhost:8080/",
          "height": 424
        },
        "id": "r9ewzNN8MgWv",
        "outputId": "fe1d4d87-6852-44ee-c0a7-d15d371ed8ac"
      },
      "execution_count": 90,
      "outputs": [
        {
          "output_type": "execute_result",
          "data": {
            "text/plain": [
              "      state  replace\n",
              "0         0        1\n",
              "1         0        1\n",
              "2         0        1\n",
              "3         0        1\n",
              "4         0        1\n",
              "...     ...      ...\n",
              "8151     67        0\n",
              "8152     61        0\n",
              "8153     73        0\n",
              "8154     71        0\n",
              "8155     69        0\n",
              "\n",
              "[8156 rows x 2 columns]"
            ],
            "text/html": [
              "\n",
              "  <div id=\"df-6adf8b09-22a4-4048-9334-c7a2ac5a0614\">\n",
              "    <div class=\"colab-df-container\">\n",
              "      <div>\n",
              "<style scoped>\n",
              "    .dataframe tbody tr th:only-of-type {\n",
              "        vertical-align: middle;\n",
              "    }\n",
              "\n",
              "    .dataframe tbody tr th {\n",
              "        vertical-align: top;\n",
              "    }\n",
              "\n",
              "    .dataframe thead th {\n",
              "        text-align: right;\n",
              "    }\n",
              "</style>\n",
              "<table border=\"1\" class=\"dataframe\">\n",
              "  <thead>\n",
              "    <tr style=\"text-align: right;\">\n",
              "      <th></th>\n",
              "      <th>state</th>\n",
              "      <th>replace</th>\n",
              "    </tr>\n",
              "  </thead>\n",
              "  <tbody>\n",
              "    <tr>\n",
              "      <th>0</th>\n",
              "      <td>0</td>\n",
              "      <td>1</td>\n",
              "    </tr>\n",
              "    <tr>\n",
              "      <th>1</th>\n",
              "      <td>0</td>\n",
              "      <td>1</td>\n",
              "    </tr>\n",
              "    <tr>\n",
              "      <th>2</th>\n",
              "      <td>0</td>\n",
              "      <td>1</td>\n",
              "    </tr>\n",
              "    <tr>\n",
              "      <th>3</th>\n",
              "      <td>0</td>\n",
              "      <td>1</td>\n",
              "    </tr>\n",
              "    <tr>\n",
              "      <th>4</th>\n",
              "      <td>0</td>\n",
              "      <td>1</td>\n",
              "    </tr>\n",
              "    <tr>\n",
              "      <th>...</th>\n",
              "      <td>...</td>\n",
              "      <td>...</td>\n",
              "    </tr>\n",
              "    <tr>\n",
              "      <th>8151</th>\n",
              "      <td>67</td>\n",
              "      <td>0</td>\n",
              "    </tr>\n",
              "    <tr>\n",
              "      <th>8152</th>\n",
              "      <td>61</td>\n",
              "      <td>0</td>\n",
              "    </tr>\n",
              "    <tr>\n",
              "      <th>8153</th>\n",
              "      <td>73</td>\n",
              "      <td>0</td>\n",
              "    </tr>\n",
              "    <tr>\n",
              "      <th>8154</th>\n",
              "      <td>71</td>\n",
              "      <td>0</td>\n",
              "    </tr>\n",
              "    <tr>\n",
              "      <th>8155</th>\n",
              "      <td>69</td>\n",
              "      <td>0</td>\n",
              "    </tr>\n",
              "  </tbody>\n",
              "</table>\n",
              "<p>8156 rows × 2 columns</p>\n",
              "</div>\n",
              "      <button class=\"colab-df-convert\" onclick=\"convertToInteractive('df-6adf8b09-22a4-4048-9334-c7a2ac5a0614')\"\n",
              "              title=\"Convert this dataframe to an interactive table.\"\n",
              "              style=\"display:none;\">\n",
              "        \n",
              "  <svg xmlns=\"http://www.w3.org/2000/svg\" height=\"24px\"viewBox=\"0 0 24 24\"\n",
              "       width=\"24px\">\n",
              "    <path d=\"M0 0h24v24H0V0z\" fill=\"none\"/>\n",
              "    <path d=\"M18.56 5.44l.94 2.06.94-2.06 2.06-.94-2.06-.94-.94-2.06-.94 2.06-2.06.94zm-11 1L8.5 8.5l.94-2.06 2.06-.94-2.06-.94L8.5 2.5l-.94 2.06-2.06.94zm10 10l.94 2.06.94-2.06 2.06-.94-2.06-.94-.94-2.06-.94 2.06-2.06.94z\"/><path d=\"M17.41 7.96l-1.37-1.37c-.4-.4-.92-.59-1.43-.59-.52 0-1.04.2-1.43.59L10.3 9.45l-7.72 7.72c-.78.78-.78 2.05 0 2.83L4 21.41c.39.39.9.59 1.41.59.51 0 1.02-.2 1.41-.59l7.78-7.78 2.81-2.81c.8-.78.8-2.07 0-2.86zM5.41 20L4 18.59l7.72-7.72 1.47 1.35L5.41 20z\"/>\n",
              "  </svg>\n",
              "      </button>\n",
              "      \n",
              "  <style>\n",
              "    .colab-df-container {\n",
              "      display:flex;\n",
              "      flex-wrap:wrap;\n",
              "      gap: 12px;\n",
              "    }\n",
              "\n",
              "    .colab-df-convert {\n",
              "      background-color: #E8F0FE;\n",
              "      border: none;\n",
              "      border-radius: 50%;\n",
              "      cursor: pointer;\n",
              "      display: none;\n",
              "      fill: #1967D2;\n",
              "      height: 32px;\n",
              "      padding: 0 0 0 0;\n",
              "      width: 32px;\n",
              "    }\n",
              "\n",
              "    .colab-df-convert:hover {\n",
              "      background-color: #E2EBFA;\n",
              "      box-shadow: 0px 1px 2px rgba(60, 64, 67, 0.3), 0px 1px 3px 1px rgba(60, 64, 67, 0.15);\n",
              "      fill: #174EA6;\n",
              "    }\n",
              "\n",
              "    [theme=dark] .colab-df-convert {\n",
              "      background-color: #3B4455;\n",
              "      fill: #D2E3FC;\n",
              "    }\n",
              "\n",
              "    [theme=dark] .colab-df-convert:hover {\n",
              "      background-color: #434B5C;\n",
              "      box-shadow: 0px 1px 3px 1px rgba(0, 0, 0, 0.15);\n",
              "      filter: drop-shadow(0px 1px 2px rgba(0, 0, 0, 0.3));\n",
              "      fill: #FFFFFF;\n",
              "    }\n",
              "  </style>\n",
              "\n",
              "      <script>\n",
              "        const buttonEl =\n",
              "          document.querySelector('#df-6adf8b09-22a4-4048-9334-c7a2ac5a0614 button.colab-df-convert');\n",
              "        buttonEl.style.display =\n",
              "          google.colab.kernel.accessAllowed ? 'block' : 'none';\n",
              "\n",
              "        async function convertToInteractive(key) {\n",
              "          const element = document.querySelector('#df-6adf8b09-22a4-4048-9334-c7a2ac5a0614');\n",
              "          const dataTable =\n",
              "            await google.colab.kernel.invokeFunction('convertToInteractive',\n",
              "                                                     [key], {});\n",
              "          if (!dataTable) return;\n",
              "\n",
              "          const docLinkHtml = 'Like what you see? Visit the ' +\n",
              "            '<a target=\"_blank\" href=https://colab.research.google.com/notebooks/data_table.ipynb>data table notebook</a>'\n",
              "            + ' to learn more about interactive tables.';\n",
              "          element.innerHTML = '';\n",
              "          dataTable['output_type'] = 'display_data';\n",
              "          await google.colab.output.renderOutput(dataTable, element);\n",
              "          const docLink = document.createElement('div');\n",
              "          docLink.innerHTML = docLinkHtml;\n",
              "          element.appendChild(docLink);\n",
              "        }\n",
              "      </script>\n",
              "    </div>\n",
              "  </div>\n",
              "  "
            ]
          },
          "metadata": {},
          "execution_count": 90
        }
      ]
    },
    {
      "cell_type": "code",
      "source": [
        "#using the transition probability in Rust, we can correctly recover the Cost and RC but not sure what is wrong with my estimate of transition probabilities\n",
        "m = Rust()\n",
        "rd = all_trans.T\n",
        "res=ll( m, rd ).x\n",
        "print(\"Cost coefficient and RC are:\")\n",
        "res\n"
      ],
      "metadata": {
        "colab": {
          "base_uri": "https://localhost:8080/"
        },
        "id": "eGqqfzyqxOk8",
        "outputId": "1f00dd58-a490-473a-b0b2-f956e0dc571b"
      },
      "execution_count": 40,
      "outputs": [
        {
          "output_type": "stream",
          "name": "stdout",
          "text": [
            "Cost coefficient and RC are:\n",
            "2.627487578479345 9.758216432678232\n"
          ]
        }
      ]
    },
    {
      "cell_type": "markdown",
      "source": [
        "With 1-3 groups: RC(11.724563453632341)  $\\theta=4.8123153266345237$\n",
        "\n",
        "With 4 groups: RC(10.7152342354326346)  $\\theta=2.2735234236134134$"
      ],
      "metadata": {
        "id": "wXI037HWMv75"
      }
    },
    {
      "cell_type": "code",
      "source": [
        "# beta = 0 case\n",
        "#again we could recover the results \n",
        "m = Rust(beta=0)\n",
        "rd = all_trans.T\n",
        "res=ll( m, rd ).x\n",
        "print(\"Cost coefficient and RC are:\")\n",
        "res\n",
        "print(7.3055374275947234,70.2769259485052357)"
      ],
      "metadata": {
        "colab": {
          "base_uri": "https://localhost:8080/"
        },
        "id": "vYyLaJy_7NwV",
        "outputId": "cff1a012-9842-42b3-aab2-49de27b9d222"
      },
      "execution_count": 41,
      "outputs": [
        {
          "output_type": "stream",
          "name": "stdout",
          "text": [
            "Cost coefficient and RC are:\n",
            "7.305537427594723 70.27692594850524\n"
          ]
        }
      ]
    },
    {
      "cell_type": "markdown",
      "source": [
        "With 1-3 groups: RC(8.5890823423809523)  $\\theta=111.5784456345346223$\n",
        "\n",
        "With 4 groups: RC(7.2343734534636234)  $\\theta=72.8346354424523422$\n",
        "\n",
        "These numbers are similar to the Rust paper. Compared to when $\\beta=0.999$, these numbers make sense as the RC are lower and mileage cost is higher. "
      ],
      "metadata": {
        "id": "IfZMzly_NcHT"
      }
    },
    {
      "cell_type": "code",
      "source": [],
      "metadata": {
        "id": "e-r4s-jwOV9C"
      },
      "execution_count": null,
      "outputs": []
    }
  ]
}